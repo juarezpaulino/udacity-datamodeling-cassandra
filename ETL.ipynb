{
 "cells": [
  {
   "cell_type": "code",
   "execution_count": 1,
   "metadata": {
    "editable": true
   },
   "outputs": [],
   "source": [
    "# Import Python packages \n",
    "import pandas as pd\n",
    "import cassandra\n",
    "from cassandra.cluster import Cluster\n",
    "import re\n",
    "import os\n",
    "import glob\n",
    "import numpy as np\n",
    "import json\n",
    "import csv"
   ]
  },
  {
   "cell_type": "markdown",
   "metadata": {
    "editable": true
   },
   "source": [
    "# Part I. ETL Pipeline for Pre-Processing the Files"
   ]
  },
  {
   "cell_type": "markdown",
   "metadata": {
    "editable": true
   },
   "source": [
    "## PRE-PROCESSING CSV FILES\n",
    "\n",
    "**Goal**: Create a new flat CSV file containing all event information collected from the event_data folder. "
   ]
  },
  {
   "cell_type": "markdown",
   "metadata": {
    "editable": true
   },
   "source": [
    "#### Creates list of filepaths to process original event csv data files"
   ]
  },
  {
   "cell_type": "code",
   "execution_count": 2,
   "metadata": {
    "editable": true
   },
   "outputs": [],
   "source": [
    "def get_source_files():\n",
    "    \"\"\" Retrieve datastore directory and collect each source filepath\n",
    "     \n",
    "    Returns: A list of filepaths for each event data file.\n",
    "    \"\"\"\n",
    "    filepath = os.getcwd() + '/event_data'\n",
    "    file_path_list = []\n",
    "    for root, dirs, files in os.walk(filepath):\n",
    "        # join the file path and roots with the subdirectories using glob\n",
    "        files = glob.glob(os.path.join(root,'*events.csv'))\n",
    "        for f in files:\n",
    "            file_path_list.append(os.path.abspath(f))\n",
    "    \n",
    "    return file_path_list"
   ]
  },
  {
   "cell_type": "markdown",
   "metadata": {
    "editable": true
   },
   "source": [
    "#### Processes the files to create the data file csv that will be used for Apache Casssandra tables\n",
    "\n",
    "Note: Running this function will create a file event_datafile_new.csv on the current workspace."
   ]
  },
  {
   "cell_type": "code",
   "execution_count": 3,
   "metadata": {
    "editable": true
   },
   "outputs": [],
   "source": [
    "def generate_csv_dataset():\n",
    "    \"\"\" Creates a merged CSV dataset file called `event_datafile_new.csv` with all the event information\n",
    "    \"\"\"\n",
    "\n",
    "    # retrieve list of sources files\n",
    "    file_path_list = get_source_files()\n",
    "    # stores all data rows in a list \n",
    "    full_data_rows_list = [] \n",
    "    \n",
    "    # process every CSV filepath retrieved and join data in a list \n",
    "    for f in file_path_list:\n",
    "        with open(f, 'r', encoding = 'utf8', newline='') as csvfile: \n",
    "            csvreader = csv.reader(csvfile) \n",
    "            next(csvreader) # Skip header line\n",
    "            for line in csvreader:\n",
    "                full_data_rows_list.append(line) \n",
    "            \n",
    "    # creating a smaller event data csv file called event_datafile_new csv that will be used to insert data into the \\\n",
    "    # Apache Cassandra tables\n",
    "    csv.register_dialect('myDialect', quoting=csv.QUOTE_ALL, skipinitialspace=True)\n",
    "    with open('event_datafile_new.csv', 'w', encoding = 'utf8', newline='') as f:\n",
    "        writer = csv.writer(f, dialect='myDialect')\n",
    "        writer.writerow(['artist','firstName','gender','itemInSession','lastName','length',\\\n",
    "                    'level','location','sessionId','song','userId'])\n",
    "        for row in full_data_rows_list:\n",
    "            if (row[0] == ''):\n",
    "                continue\n",
    "            writer.writerow((row[0], row[2], row[3], row[4], row[5], row[6], row[7], row[8], row[12], row[13], row[16]))\n"
   ]
  },
  {
   "cell_type": "markdown",
   "metadata": {
    "editable": true
   },
   "source": [
    "#### Part I - Main pipeline\n",
    "\n",
    "Run this code before going to Part II"
   ]
  },
  {
   "cell_type": "code",
   "execution_count": 4,
   "metadata": {
    "editable": true
   },
   "outputs": [],
   "source": [
    "try:\n",
    "    generate_csv_dataset()\n",
    "except Exception as e:\n",
    "    print(e)"
   ]
  },
  {
   "cell_type": "markdown",
   "metadata": {
    "editable": true
   },
   "source": [
    "# Part II. Loading data to Apache Cassandra\n",
    "\n",
    "## These code below requires a file <font color=red>event_datafile_new.csv</font>, located within the Workspace directory.  The event_datafile_new.csv contains the following columns: \n",
    "- artist \n",
    "- firstName of user\n",
    "- gender of user\n",
    "- item number in session\n",
    "- last name of user\n",
    "- length of the song\n",
    "- level (paid or free song)\n",
    "- location of the user\n",
    "- sessionId\n",
    "- song title\n",
    "- userId\n",
    "\n",
    "The image below is a screenshot of what the denormalized data should appear like in the <font color=red>**event_datafile_new.csv**</font> after the code above is run:<br>\n",
    "\n",
    "<img src=\"images/image_event_datafile_new.jpg\">"
   ]
  },
  {
   "cell_type": "markdown",
   "metadata": {
    "editable": true
   },
   "source": [
    "## Creating Apache Cassandra cluster"
   ]
  },
  {
   "cell_type": "markdown",
   "metadata": {
    "editable": true
   },
   "source": [
    "#### Creating a Cluster"
   ]
  },
  {
   "cell_type": "code",
   "execution_count": 5,
   "metadata": {
    "editable": true
   },
   "outputs": [],
   "source": [
    "def create_connection():\n",
    "    \"\"\" This should make a connection to a Cassandra instance on your local machine (127.0.0.1)\n",
    "    \n",
    "    Return values:\n",
    "    - Tuple with cluster and session objects to a cassandra local database\n",
    "    \"\"\" \n",
    "    cluster = Cluster()\n",
    "    session = cluster.connect()\n",
    "    return (cluster, session)"
   ]
  },
  {
   "cell_type": "markdown",
   "metadata": {
    "editable": true
   },
   "source": [
    "#### Create and Set Keyspace\n",
    "**Note**: We will set the session to return the resultset as a pandas dataframe"
   ]
  },
  {
   "cell_type": "code",
   "execution_count": 6,
   "metadata": {
    "editable": true
   },
   "outputs": [],
   "source": [
    "def init_keyspace(conn):\n",
    "    \"\"\" Create and set the keyspace sparkify from a open session to a Cassandra database.\n",
    "    \n",
    "    Parameters:\n",
    "    - conn: connection to a cassandra cluster\n",
    "    \"\"\"\n",
    "    session.execute(\"\"\"\n",
    "        CREATE KEYSPACE IF NOT EXISTS sparkify\n",
    "        WITH REPLICATION = \n",
    "        { 'class': 'SimpleStrategy', 'replication_factor': 1}\n",
    "    \"\"\")\n",
    "    \n",
    "    session.row_factory = lambda colnames, rows: pd.DataFrame(rows, columns=colnames)\n",
    "    \n",
    "    session.set_keyspace('sparkify')"
   ]
  },
  {
   "cell_type": "code",
   "execution_count": 7,
   "metadata": {
    "editable": true
   },
   "outputs": [],
   "source": [
    "def pandas_factory(colnames, rows):\n",
    "    \"\"\" Converts cassandra result set to pandas dataframe. Apply it to session.row_factory before running a query.\n",
    "    \"\"\"\n",
    "    return pd.DataFrame(rows, columns=colnames)"
   ]
  },
  {
   "cell_type": "markdown",
   "metadata": {
    "editable": true
   },
   "source": [
    "#### Create cluster and session globals for a cassandra keyspace"
   ]
  },
  {
   "cell_type": "code",
   "execution_count": 8,
   "metadata": {
    "editable": true
   },
   "outputs": [],
   "source": [
    "try:\n",
    "    cluster,session = create_connection()\n",
    "    init_keyspace(session)\n",
    "except Exception as e:\n",
    "    print(e)"
   ]
  },
  {
   "cell_type": "markdown",
   "metadata": {
    "editable": true
   },
   "source": [
    "## Create queries to ask the following three questions of the data"
   ]
  },
  {
   "cell_type": "markdown",
   "metadata": {
    "editable": true
   },
   "source": [
    "### 1. Give me the `artist`, `song` title and song's `length` in the music app history that was heard during  `sessionId = 338`, and `itemInSession  = 4`"
   ]
  },
  {
   "cell_type": "markdown",
   "metadata": {
    "editable": true
   },
   "source": [
    "#### ETL Routine to load data to cassandra table:"
   ]
  },
  {
   "cell_type": "code",
   "execution_count": 9,
   "metadata": {
    "editable": true
   },
   "outputs": [],
   "source": [
    "def load_song_by_session(sess):\n",
    "    \"\"\" ETL routine to create cassandra table to answer 1st query relating song from session_id and item_in_session.\n",
    "    \n",
    "    Parameters:\n",
    "    - cassandra session to create table in the keyspace set\n",
    "    \"\"\"\n",
    "    \n",
    "    query = \"\"\"\n",
    "        CREATE TABLE IF NOT EXISTS song_by_session (\n",
    "            session_id INT\n",
    "            , item_in_session INT\n",
    "            , artist TEXT\n",
    "            , song TEXT\n",
    "            , length FLOAT\n",
    "            , PRIMARY KEY(\n",
    "                (session_id),\n",
    "                item_in_session\n",
    "            )\n",
    "        )\n",
    "    \"\"\"\n",
    "    session.execute(query)\n",
    "\n",
    "    # CSV dataset to extract data\n",
    "    file = 'event_datafile_new.csv'\n",
    "\n",
    "    with open(file, encoding = 'utf8') as f:\n",
    "        csvreader = csv.reader(f)\n",
    "        next(csvreader)\n",
    "        for line in csvreader:\n",
    "            query = \"\"\"\n",
    "                INSERT INTO song_by_session (\n",
    "                    session_id\n",
    "                    , item_in_session\n",
    "                    , artist\n",
    "                    , song\n",
    "                    , length\n",
    "                ) VALUES(%s, %s, %s, %s, %s);\n",
    "            \"\"\"\n",
    "            # Index of the matching attributes in the CSV line.\n",
    "            row = (int(line[8]), int(line[3]), line[0], line[9], float(line[5]))\n",
    "            session.execute(query, row)        "
   ]
  },
  {
   "cell_type": "markdown",
   "metadata": {
    "editable": true
   },
   "source": [
    "#### Query function to search `artist`, `song` and `length` by `session_id` and `item_in_session`"
   ]
  },
  {
   "cell_type": "code",
   "execution_count": 10,
   "metadata": {
    "editable": true
   },
   "outputs": [],
   "source": [
    "def query_song_by_session(sess, session_id, item_in_session):\n",
    "    \"\"\" Query song, artist and length streamed in the app by the given session id and itemInSession.\n",
    "    \n",
    "    Example:\n",
    "    - Give me the artist, song title and song's length in the music app history that was heard during sessionId = 338, and itemInSession = 4\n",
    "    \n",
    "    Parameters:\n",
    "    - cassandra session to query a keyspace\n",
    "    - session_id used as partition key value to query the table\n",
    "    - item_in_session used as clustering column to query the table\n",
    "\n",
    "    Returns:\n",
    "    - Resultset as a pandas dataframe\n",
    "    \"\"\"\n",
    "    query = \"\"\"\n",
    "        SELECT\n",
    "            artist\n",
    "            , song\n",
    "            , length\n",
    "        FROM song_by_session\n",
    "        WHERE\n",
    "            session_id = {}\n",
    "            AND item_in_session = {};\n",
    "    \"\"\".format(session_id, item_in_session)\n",
    "\n",
    "    session.row_factory = pandas_factory\n",
    "    result_df = session.execute(query)._current_rows\n",
    "    return result_df"
   ]
  },
  {
   "cell_type": "markdown",
   "metadata": {
    "editable": true
   },
   "source": [
    "#### Main pipeline for question 1\n",
    "\n",
    "Execute proposed query statement to answer business question"
   ]
  },
  {
   "cell_type": "code",
   "execution_count": 11,
   "metadata": {
    "editable": true,
    "scrolled": true
   },
   "outputs": [
    {
     "data": {
      "text/html": [
       "<div>\n",
       "<style scoped>\n",
       "    .dataframe tbody tr th:only-of-type {\n",
       "        vertical-align: middle;\n",
       "    }\n",
       "\n",
       "    .dataframe tbody tr th {\n",
       "        vertical-align: top;\n",
       "    }\n",
       "\n",
       "    .dataframe thead th {\n",
       "        text-align: right;\n",
       "    }\n",
       "</style>\n",
       "<table border=\"1\" class=\"dataframe\">\n",
       "  <thead>\n",
       "    <tr style=\"text-align: right;\">\n",
       "      <th></th>\n",
       "      <th>artist</th>\n",
       "      <th>song</th>\n",
       "      <th>length</th>\n",
       "    </tr>\n",
       "  </thead>\n",
       "  <tbody>\n",
       "    <tr>\n",
       "      <th>0</th>\n",
       "      <td>Faithless</td>\n",
       "      <td>Music Matters (Mark Knight Dub)</td>\n",
       "      <td>495.307312</td>\n",
       "    </tr>\n",
       "  </tbody>\n",
       "</table>\n",
       "</div>"
      ],
      "text/plain": [
       "      artist                             song      length\n",
       "0  Faithless  Music Matters (Mark Knight Dub)  495.307312"
      ]
     },
     "execution_count": 11,
     "metadata": {},
     "output_type": "execute_result"
    }
   ],
   "source": [
    "try:\n",
    "    load_song_by_session(session)\n",
    "    df = query_song_by_session(session,338,4)\n",
    "except Exception as e:\n",
    "    print(e)\n",
    "    \n",
    "df"
   ]
  },
  {
   "cell_type": "markdown",
   "metadata": {
    "editable": true
   },
   "source": [
    "### 2. Give me only the following: name of `artist`, `song` (sorted by `item_in_session`) and `user` (first and last name) for `user_id = 10`, `session_id = 182`"
   ]
  },
  {
   "cell_type": "markdown",
   "metadata": {
    "editable": true
   },
   "source": [
    "#### ETL Routine to load data to cassandra table:"
   ]
  },
  {
   "cell_type": "code",
   "execution_count": 12,
   "metadata": {
    "editable": true
   },
   "outputs": [],
   "source": [
    "def load_song_by_user(sess):\n",
    "    \"\"\" ETL routine to create cassandra table to answer 2nd query relating song from user_id and session_id.\n",
    "    \n",
    "    Parameters:\n",
    "    - cassandra session to create table in the keyspace set\n",
    "    \"\"\"\n",
    "    \n",
    "    query = \"\"\"\n",
    "        CREATE TABLE IF NOT EXISTS song_by_user (\n",
    "            user_id INT\n",
    "            , session_id INT\n",
    "            , item_in_session INT\n",
    "            , artist TEXT\n",
    "            , song TEXT\n",
    "            , user TEXT\n",
    "            , PRIMARY KEY(\n",
    "                (user_id, session_id),\n",
    "                item_in_session\n",
    "            )\n",
    "        )\n",
    "    \"\"\"\n",
    "    session.execute(query)\n",
    "\n",
    "    # CSV dataset to extract data\n",
    "    file = 'event_datafile_new.csv'\n",
    "\n",
    "    with open(file, encoding = 'utf8') as f:\n",
    "        csvreader = csv.reader(f)\n",
    "        next(csvreader)\n",
    "        for line in csvreader:\n",
    "            query = \"\"\"\n",
    "                INSERT INTO song_by_user (\n",
    "                    user_id\n",
    "                    , session_id\n",
    "                    , item_in_session\n",
    "                    , artist\n",
    "                    , song\n",
    "                    , user\n",
    "                ) VALUES(%s, %s, %s, %s, %s, %s);\n",
    "            \"\"\"\n",
    "            # Index of the matching attributes in the CSV line.\n",
    "            row = (int(line[10]), int(line[8]), int(line[3]), line[0], line[9], line[1] + ' ' + line[4])\n",
    "            session.execute(query, row)"
   ]
  },
  {
   "cell_type": "markdown",
   "metadata": {
    "editable": true
   },
   "source": [
    "#### Query function to search song by user_id and session_id"
   ]
  },
  {
   "cell_type": "code",
   "execution_count": 13,
   "metadata": {
    "editable": true
   },
   "outputs": [],
   "source": [
    "def query_song_by_user(sess, user_id, session_id):\n",
    "    \"\"\" Query song, artist and user streamed in the app by the given user and session id ordered by item_in_session.\n",
    "    \n",
    "    Example:\n",
    "    - Give me only the following: name of artist, song (sorted by item_in_session) and user (first and last name) for user_id = 10, session_id = 182\n",
    "    \n",
    "    Parameters:\n",
    "    - cassandra session to query a keyspace\n",
    "    - user_id used as partition key value to query the table\n",
    "    - session_id used as clustering column to query the table\n",
    "    \n",
    "    Returns:\n",
    "    - Resultset as a pandas dataframe\n",
    "    \"\"\"\n",
    "    query = \"\"\"\n",
    "        SELECT\n",
    "            artist\n",
    "            , song\n",
    "            , user\n",
    "        FROM song_by_user\n",
    "        WHERE\n",
    "            user_id = {}\n",
    "            AND session_id = {}\n",
    "        ORDER BY item_in_session ASC;\n",
    "    \"\"\".format(user_id, session_id)\n",
    "\n",
    "    session.row_factory = pandas_factory\n",
    "    result_df = session.execute(query)._current_rows\n",
    "    return result_df"
   ]
  },
  {
   "cell_type": "markdown",
   "metadata": {
    "editable": true
   },
   "source": [
    "#### Main pipeline for question 2\n",
    "\n",
    "Execute proposed query statement to answer business question"
   ]
  },
  {
   "cell_type": "code",
   "execution_count": 14,
   "metadata": {
    "editable": true,
    "scrolled": true
   },
   "outputs": [
    {
     "data": {
      "text/html": [
       "<div>\n",
       "<style scoped>\n",
       "    .dataframe tbody tr th:only-of-type {\n",
       "        vertical-align: middle;\n",
       "    }\n",
       "\n",
       "    .dataframe tbody tr th {\n",
       "        vertical-align: top;\n",
       "    }\n",
       "\n",
       "    .dataframe thead th {\n",
       "        text-align: right;\n",
       "    }\n",
       "</style>\n",
       "<table border=\"1\" class=\"dataframe\">\n",
       "  <thead>\n",
       "    <tr style=\"text-align: right;\">\n",
       "      <th></th>\n",
       "      <th>artist</th>\n",
       "      <th>song</th>\n",
       "      <th>user</th>\n",
       "    </tr>\n",
       "  </thead>\n",
       "  <tbody>\n",
       "    <tr>\n",
       "      <th>0</th>\n",
       "      <td>Down To The Bone</td>\n",
       "      <td>Keep On Keepin' On</td>\n",
       "      <td>Sylvie Cruz</td>\n",
       "    </tr>\n",
       "    <tr>\n",
       "      <th>1</th>\n",
       "      <td>Three Drives</td>\n",
       "      <td>Greece 2000</td>\n",
       "      <td>Sylvie Cruz</td>\n",
       "    </tr>\n",
       "    <tr>\n",
       "      <th>2</th>\n",
       "      <td>Sebastien Tellier</td>\n",
       "      <td>Kilometer</td>\n",
       "      <td>Sylvie Cruz</td>\n",
       "    </tr>\n",
       "    <tr>\n",
       "      <th>3</th>\n",
       "      <td>Lonnie Gordon</td>\n",
       "      <td>Catch You Baby (Steve Pitron &amp; Max Sanna Radio...</td>\n",
       "      <td>Sylvie Cruz</td>\n",
       "    </tr>\n",
       "  </tbody>\n",
       "</table>\n",
       "</div>"
      ],
      "text/plain": [
       "              artist                                               song  \\\n",
       "0   Down To The Bone                                 Keep On Keepin' On   \n",
       "1       Three Drives                                        Greece 2000   \n",
       "2  Sebastien Tellier                                          Kilometer   \n",
       "3      Lonnie Gordon  Catch You Baby (Steve Pitron & Max Sanna Radio...   \n",
       "\n",
       "          user  \n",
       "0  Sylvie Cruz  \n",
       "1  Sylvie Cruz  \n",
       "2  Sylvie Cruz  \n",
       "3  Sylvie Cruz  "
      ]
     },
     "execution_count": 14,
     "metadata": {},
     "output_type": "execute_result"
    }
   ],
   "source": [
    "try:\n",
    "    load_song_by_user(session)\n",
    "    df = query_song_by_user(session,10,182)\n",
    "except Exception as e:\n",
    "    print(e)\n",
    "\n",
    "df"
   ]
  },
  {
   "cell_type": "markdown",
   "metadata": {
    "editable": true
   },
   "source": [
    "### 3. Give me every user name (first and last) in my music app history who listened to the song 'All Hands Against His Own'"
   ]
  },
  {
   "cell_type": "markdown",
   "metadata": {
    "editable": true
   },
   "source": [
    "#### ETL Routine to load data to cassandra table:"
   ]
  },
  {
   "cell_type": "code",
   "execution_count": 15,
   "metadata": {
    "editable": true
   },
   "outputs": [],
   "source": [
    "def load_user_by_song(sess):\n",
    "    \"\"\" ETL routine to create cassandra table to answer 3nd query relating user from song.\n",
    "    \n",
    "    Parameters:\n",
    "    - cassandra session to create table in the keyspace set\n",
    "    \"\"\"\n",
    "    \n",
    "    query = \"\"\"\n",
    "        CREATE TABLE IF NOT EXISTS user_by_song (\n",
    "            song TEXT\n",
    "            , user TEXT\n",
    "            , PRIMARY KEY((song), user)\n",
    "        )\n",
    "    \"\"\"\n",
    "    session.execute(query)\n",
    "\n",
    "    # CSV dataset to extract data\n",
    "    file = 'event_datafile_new.csv'\n",
    "\n",
    "    with open(file, encoding = 'utf8') as f:\n",
    "        csvreader = csv.reader(f)\n",
    "        next(csvreader)\n",
    "        for line in csvreader:\n",
    "            query = \"\"\"\n",
    "                INSERT INTO user_by_song (\n",
    "                    song\n",
    "                    , user\n",
    "                ) VALUES(%s, %s);\n",
    "            \"\"\"\n",
    "            # Index of the matching attributes in the CSV line.\n",
    "            row = (line[9], line[1] + ' ' + line[4])\n",
    "            session.execute(query, row)"
   ]
  },
  {
   "cell_type": "markdown",
   "metadata": {
    "editable": true
   },
   "source": [
    "#### Query function to search username by song"
   ]
  },
  {
   "cell_type": "code",
   "execution_count": 16,
   "metadata": {
    "editable": true
   },
   "outputs": [],
   "source": [
    "def query_user_by_song(sess, song):\n",
    "    \"\"\" Query username (first name and last name) by song in the event dataset.\n",
    "    \n",
    "    Example:\n",
    "    - Give me every user name (first and last) in my music app history who listened to the song 'All Hands Against His Own'\n",
    "    \n",
    "    Parameters:\n",
    "    - cassandra session to query a keyspace\n",
    "    - song as the name of the song to be queried\n",
    "    \n",
    "    Returns:\n",
    "    - Resultset as a pandas dataframe\n",
    "    \"\"\"\n",
    "    query = \"\"\"\n",
    "        SELECT user\n",
    "        FROM user_by_song\n",
    "        WHERE song = '{}'\n",
    "    \"\"\".format(song)\n",
    "\n",
    "    session.row_factory = pandas_factory\n",
    "    result_df = session.execute(query)._current_rows\n",
    "    return result_df"
   ]
  },
  {
   "cell_type": "markdown",
   "metadata": {
    "editable": true
   },
   "source": [
    "#### Main pipeline for question 3\n",
    "\n",
    "Execute proposed query statement to answer business question"
   ]
  },
  {
   "cell_type": "code",
   "execution_count": 17,
   "metadata": {
    "editable": true,
    "scrolled": true
   },
   "outputs": [
    {
     "data": {
      "text/html": [
       "<div>\n",
       "<style scoped>\n",
       "    .dataframe tbody tr th:only-of-type {\n",
       "        vertical-align: middle;\n",
       "    }\n",
       "\n",
       "    .dataframe tbody tr th {\n",
       "        vertical-align: top;\n",
       "    }\n",
       "\n",
       "    .dataframe thead th {\n",
       "        text-align: right;\n",
       "    }\n",
       "</style>\n",
       "<table border=\"1\" class=\"dataframe\">\n",
       "  <thead>\n",
       "    <tr style=\"text-align: right;\">\n",
       "      <th></th>\n",
       "      <th>user</th>\n",
       "    </tr>\n",
       "  </thead>\n",
       "  <tbody>\n",
       "    <tr>\n",
       "      <th>0</th>\n",
       "      <td>Jacqueline Lynch</td>\n",
       "    </tr>\n",
       "    <tr>\n",
       "      <th>1</th>\n",
       "      <td>Sara Johnson</td>\n",
       "    </tr>\n",
       "    <tr>\n",
       "      <th>2</th>\n",
       "      <td>Tegan Levine</td>\n",
       "    </tr>\n",
       "  </tbody>\n",
       "</table>\n",
       "</div>"
      ],
      "text/plain": [
       "               user\n",
       "0  Jacqueline Lynch\n",
       "1      Sara Johnson\n",
       "2      Tegan Levine"
      ]
     },
     "execution_count": 17,
     "metadata": {},
     "output_type": "execute_result"
    }
   ],
   "source": [
    "try:\n",
    "    load_user_by_song(session)\n",
    "    df = query_user_by_song(session,'All Hands Against His Own')\n",
    "except Exception as e:\n",
    "    print(e)\n",
    "    \n",
    "df"
   ]
  },
  {
   "cell_type": "markdown",
   "metadata": {
    "editable": true
   },
   "source": [
    "### Drop the tables before closing out the sessions"
   ]
  },
  {
   "cell_type": "code",
   "execution_count": 18,
   "metadata": {
    "editable": true
   },
   "outputs": [],
   "source": [
    "try:\n",
    "    session.execute(\"DROP TABLE IF EXISTS song_by_session;\")\n",
    "    session.execute(\"DROP TABLE IF EXISTS song_by_user;\")\n",
    "    session.execute(\"DROP TABLE IF EXISTS user_by_song;\")\n",
    "except Exception as e:\n",
    "    print(e)"
   ]
  },
  {
   "cell_type": "markdown",
   "metadata": {
    "editable": true
   },
   "source": [
    "### Close the session and cluster connection¶"
   ]
  },
  {
   "cell_type": "code",
   "execution_count": 19,
   "metadata": {
    "editable": true
   },
   "outputs": [],
   "source": [
    "session.shutdown()\n",
    "cluster.shutdown()"
   ]
  }
 ],
 "metadata": {
  "kernelspec": {
   "display_name": "Python 3",
   "language": "python",
   "name": "python3"
  },
  "language_info": {
   "codemirror_mode": {
    "name": "ipython",
    "version": 3
   },
   "file_extension": ".py",
   "mimetype": "text/x-python",
   "name": "python",
   "nbconvert_exporter": "python",
   "pygments_lexer": "ipython3",
   "version": "3.6.3"
  }
 },
 "nbformat": 4,
 "nbformat_minor": 4
}
